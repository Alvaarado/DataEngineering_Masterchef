{
 "cells": [
  {
   "cell_type": "markdown",
   "metadata": {},
   "source": [
    "# Base de datos de AWS"
   ]
  },
  {
   "cell_type": "markdown",
   "metadata": {},
   "source": [
    "Conectamos con AWS para ver el listado de bases de datos "
   ]
  },
  {
   "cell_type": "code",
   "execution_count": 1,
   "metadata": {},
   "outputs": [],
   "source": [
    "import pymysql"
   ]
  },
  {
   "cell_type": "code",
   "execution_count": 2,
   "metadata": {},
   "outputs": [
    {
     "name": "stdout",
     "output_type": "stream",
     "text": [
      "Existing databases:\n",
      "information_schema\n",
      "mysql\n",
      "performance_schema\n",
      "query_recipes\n",
      "sys\n"
     ]
    }
   ],
   "source": [
    "connection = pymysql.connect(\n",
    "    host='db-recipes.ct46wkioy0f3.us-east-1.rds.amazonaws.com',\n",
    "    user='admin',\n",
    "    password='12345678',\n",
    "    port=3306,\n",
    "    cursorclass=pymysql.cursors.DictCursor\n",
    ")\n",
    "\n",
    "try:\n",
    "    with connection.cursor() as cursor:\n",
    "        # Listar todas las bases de datos\n",
    "        cursor.execute(\"SHOW DATABASES;\")\n",
    "        databases = cursor.fetchall()\n",
    "        print(\"Existing databases:\")\n",
    "        for db in databases:\n",
    "            print(db[\"Database\"])\n",
    "finally:\n",
    "    connection.close()"
   ]
  },
  {
   "cell_type": "markdown",
   "metadata": {},
   "source": [
    "Conectamos con AWS y creamos una nueva base de datos llamada \"query_recipes\" que será utilizada en la app"
   ]
  },
  {
   "cell_type": "code",
   "execution_count": 4,
   "metadata": {},
   "outputs": [
    {
     "name": "stdout",
     "output_type": "stream",
     "text": [
      "Database 'query_recipes' created or already exists.\n"
     ]
    }
   ],
   "source": [
    "connection = pymysql.connect(\n",
    "    host='db-recipes.ct46wkioy0f3.us-east-1.rds.amazonaws.com',\n",
    "    user='admin',\n",
    "    password='12345678',\n",
    "    port=3306,\n",
    "    cursorclass=pymysql.cursors.DictCursor\n",
    ")\n",
    "\n",
    "try:\n",
    "    with connection.cursor() as cursor:\n",
    "\n",
    "        # Crear una nueva base de datos\n",
    "        \n",
    "        new_db_name = \"query_recipes\"  \n",
    "        cursor.execute(f\"CREATE DATABASE IF NOT EXISTS {new_db_name};\")\n",
    "        print(f\"Database '{new_db_name}' created or already exists.\")\n",
    "finally:\n",
    "    connection.close()"
   ]
  },
  {
   "cell_type": "code",
   "execution_count": 5,
   "metadata": {},
   "outputs": [
    {
     "name": "stdout",
     "output_type": "stream",
     "text": [
      "Existing databases:\n",
      "information_schema\n",
      "mysql\n",
      "performance_schema\n",
      "query_recipes\n",
      "sys\n"
     ]
    }
   ],
   "source": [
    "connection = pymysql.connect(\n",
    "    host='db-recipes.ct46wkioy0f3.us-east-1.rds.amazonaws.com',\n",
    "    user='admin',\n",
    "    password='12345678',\n",
    "    port=3306,\n",
    "    cursorclass=pymysql.cursors.DictCursor\n",
    ")\n",
    "\n",
    "try:\n",
    "    with connection.cursor() as cursor:\n",
    "        # Listar todas las bases de datos\n",
    "        cursor.execute(\"SHOW DATABASES;\")\n",
    "        databases = cursor.fetchall()\n",
    "        print(\"Existing databases:\")\n",
    "        for db in databases:\n",
    "            print(db[\"Database\"])\n",
    "finally:\n",
    "    connection.close()"
   ]
  },
  {
   "cell_type": "markdown",
   "metadata": {},
   "source": [
    "Creamos una tabla llamada \"query_responses\" para que se almacenen ahí las interacciones con el usuario"
   ]
  },
  {
   "cell_type": "code",
   "execution_count": 9,
   "metadata": {},
   "outputs": [
    {
     "name": "stdout",
     "output_type": "stream",
     "text": [
      "Tabla 'query_responses' creada exitosamente.\n"
     ]
    }
   ],
   "source": [
    "# Configuración de la base de datos\n",
    "\n",
    "DB_CONFIG = {\n",
    "    'host': 'db-recipes.ct46wkioy0f3.us-east-1.rds.amazonaws.com',\n",
    "    'port': 3306,\n",
    "    'user': 'admin',\n",
    "    'password': '12345678',\n",
    "    'database': 'query_recipes',\n",
    "    'charset': 'utf8mb4',\n",
    "    'cursorclass': pymysql.cursors.DictCursor\n",
    "}\n",
    "\n",
    "# Query para crear la tabla\n",
    "\n",
    "create_table_query = \"\"\"\n",
    "CREATE TABLE IF NOT EXISTS query_responses (\n",
    "    id INT AUTO_INCREMENT PRIMARY KEY,\n",
    "    ingredients TEXT NOT NULL,\n",
    "    time INT NOT NULL,\n",
    "    response TEXT NOT NULL,\n",
    "    created_at TIMESTAMP DEFAULT CURRENT_TIMESTAMP\n",
    ");\n",
    "\"\"\"\n",
    "\n",
    "def create_table():\n",
    "\n",
    "    # Conectar a la base de datos\n",
    "    \n",
    "    connection = pymysql.connect(**DB_CONFIG)\n",
    "    try:\n",
    "        with connection.cursor() as cursor:\n",
    "            # Ejecutar la consulta para crear la tabla\n",
    "            cursor.execute(create_table_query)\n",
    "            print(\"Tabla 'query_responses' creada exitosamente.\")\n",
    "    except Exception as e:\n",
    "        print(f\"Error al crear la tabla: {str(e)}\")\n",
    "    finally:\n",
    "        connection.close()\n",
    "\n",
    "if __name__ == \"__main__\":\n",
    "    create_table()\n"
   ]
  },
  {
   "cell_type": "markdown",
   "metadata": {},
   "source": [
    "Confirmación de que los datos se han registrado en la tabla de respuestas de forma adecuada"
   ]
  },
  {
   "cell_type": "code",
   "execution_count": 3,
   "metadata": {},
   "outputs": [
    {
     "name": "stdout",
     "output_type": "stream",
     "text": [
      "[{'id': 1, 'ingredients': 'pollo, arroz, zanahoria', 'time': 30, 'response': '¡Claro! Aquí te dejo una receta deliciosa y fácil de preparar con los ingredientes que tienes:\\n\\n**Pollo al curry con arroz y zanahoria**\\n\\n**Ingredientes:**\\n- 2 pechugas de pollo\\n- 1 taza de arroz\\n- 2 zanahorias\\n- 1 cucharada de aceite de oliva\\n- 1 cebolla\\n- 2 dientes de ajo\\n- 1 lata de leche de coco\\n- 2 cucharadas de curry en polvo\\n- Sal y pimienta al gusto\\n\\n**Instrucciones:**\\n\\n1. Corta las pechugas de pollo en trozos medianos, pélalas y corta las zanahorias en rodajas finas, pica la cebolla y los dientes de ajo.\\n\\n2. En una sartén grande a fuego medio, calienta el aceite de oliva y sofríe la cebolla y el ajo hasta que estén dorados.\\n\\n3. Agrega el pollo y cocina hasta que esté dorado por todos lados.\\n\\n4. Añade las zanahorias y el curry en polvo, mezcla bien y cocina por unos minutos más.\\n\\n5. Agrega la leche de coco, sal y pimienta al gusto. Mezcla todo y deja cocinar a fuego medio-bajo por aproximadamente 15-20 minutos, o hasta que el pollo esté cocido y la salsa haya reducido un poco.\\n\\n6. Mientras tanto, cuece el arroz según las instrucciones del paquete.\\n\\n7. Sirve el pollo al curry caliente sobre una cama de arroz y ¡disfruta de este delicioso plato!\\n\\n¡Espero que disfrutes de esta receta! ¡Buen provecho!', 'created_at': datetime.datetime(2024, 7, 21, 22, 34, 6)}, {'id': 2, 'ingredients': 'pollo, arroz, zanahoria', 'time': 30, 'response': '¡Claro! Aquí tienes una receta deliciosa y fácil de preparar en 30 minutos: Arroz con pollo y zanahoria.\\n\\nIngredientes:\\n- 500g de pechuga de pollo cortada en trozos\\n- 1 taza de arroz\\n- 2 zanahorias ralladas\\n- 1 cebolla picada\\n- 2 dientes de ajo picados\\n- 2 tazas de caldo de pollo\\n- Sal y pimienta al gusto\\n- Aceite de oliva\\n\\nInstrucciones:\\n\\n1. En una sartén grande, calienta un poco de aceite de oliva a fuego medio-alto. Dorar el pollo por unos 5 minutos hasta que esté bien cocido. Retirar el pollo de la sartén y reservar.\\n\\n2. En la misma sartén, añadir un poco más de aceite de oliva y sofreír la cebolla y el ajo hasta que estén transparentes.\\n\\n3. Agregar el arroz a la sartén y cocinar por un par de minutos, revolviendo constantemente.\\n\\n4. Incorporar las zanahorias ralladas y mezclar bien.\\n\\n5. Añadir el caldo de pollo y llevar a ebullición. Reducir el fuego a medio-bajo, tapar la sartén y dejar cocinar por unos 15 minutos o hasta que el arroz esté tierno.\\n\\n6. Agregar el pollo dorado nuevamente a la sartén y cocinar por unos minutos más para que se integren los sabores.\\n\\n7. Rectificar la sazón con sal y pimienta al gusto.\\n\\n8. Servir caliente y disfrutar de este delicioso arroz con pollo y zanahoria.\\n\\n¡Espero que disfrutes esta receta! ¡Buen provecho!', 'created_at': datetime.datetime(2024, 7, 21, 22, 46, 23)}, {'id': 3, 'ingredients': 'setas, huevo, queso', 'time': 51, 'response': '¡Claro! Aquí tienes una deliciosa receta de Revuelto de setas con huevo y queso que podrás preparar en aproximadamente 51 minutos:\\n\\nIngredientes:\\n- 250g de setas (pueden ser champiñones, shiitake, o la variedad que prefieras)\\n- 4 huevos\\n- 100g de queso rallado (puedes elegir el queso que más te guste, como por ejemplo queso cheddar, queso parmesano, o queso Gruyère)\\n- Sal y pimienta al gusto\\n- Aceite de oliva virgen extra\\n\\nInstrucciones paso a paso:\\n\\n1. Limpia las setas con un paño húmedo o un cepillo suave para quitar cualquier suciedad. Corta las setas en rodajas o trozos, según tu preferencia.\\n\\n2. Calienta un poco de aceite de oliva en una sartén grande a fuego medio-alto. Añade las setas y saltéalas durante unos 5-7 minutos, o hasta que estén doradas y tiernas. Remueve de vez en cuando para que se cocinen de manera uniforme.\\n\\n3. Mientras tanto, bate los huevos en un bol grande y sazónalos con sal y pimienta al gusto. Añade el queso rallado y mezcla bien.\\n\\n4. Cuando las setas estén listas, reduce el fuego a medio-bajo y añade la mezcla de huevos y queso a la sartén. Remueve suavemente con una espátula, cocinando lentamente para que los huevos se cuajen de manera uniforme.\\n\\n5. Continúa cocinando y removiendo el revuelto de setas, huevo y queso durante unos 5-7 minutos, o hasta que los huevos estén cocidos a tu gusto. Puedes dejarlos un poco cremosos o más firmes, según tu preferencia.\\n\\n6. Una vez listo, retira la sartén del fuego y sirve el revuelto de setas con huevo y queso caliente, acompañado de una ensalada fresca o pan tostado.\\n\\n¡Disfruta de esta deliciosa y reconfortante receta de Revuelto de setas con huevo y queso! Espero que la disfrutes. ¡Buen provecho!', 'created_at': datetime.datetime(2024, 7, 22, 8, 56, 39)}, {'id': 4, 'ingredients': 'piedra, arena, mesa', 'time': 12, 'response': '¡Claro! Aquí tienes una receta creativa con los ingredientes que mencionaste:\\n\\nReceta: Sopa de piedra playera\\n\\nIngredientes:\\n- Piedra (lavada y desinfectada)\\n- Arena (limpia y seca)\\n- Mesa (limpia y resistente)\\n- Agua\\n- Sal\\n- Verduras (opcional)\\n\\nInstrucciones:\\n\\n1. Coloca la mesa en un espacio seguro y enciende una fogata o haz uso de una cocina de camping si estás al aire libre.\\n\\n2. Llena una olla grande con agua y colócala sobre el fuego para que comience a calentarse.\\n\\n3. Mientras el agua se calienta, envuelve la piedra en papel aluminio y colócala en el fuego para que se caliente.\\n\\n4. Cuando el agua esté caliente pero aún no hirviendo, agrega la arena y remueve con cuidado para integrarla.\\n\\n5. Agrega la piedra precalentada al agua con arena y sigue calentando a fuego medio.\\n\\n6. Agrega sal al gusto y, si lo deseas, puedes incorporar algunas verduras picadas finamente para darle sabor y nutrientes adicionales a la sopa.\\n\\n7. Continúa cocinando la sopa durante unos 10-12 minutos, removiendo ocasionalmente para asegurarte de que todos los ingredientes se cocinen uniformemente.\\n\\n8. Una vez transcurrido el tiempo de cocción, retira la piedra envuelta en papel aluminio y deséchala con cuidado, sin quemarte.\\n\\n9. Prueba la sopa y ajusta la sazón si es necesario.\\n\\n10. Sirve la sopa caliente en platos hondos y disfruta de esta original creación culinaria.\\n\\n¡Espero que disfrutes de esta sopa de piedra playera! ¡Buen provecho!', 'created_at': datetime.datetime(2024, 7, 22, 8, 58, 26)}, {'id': 5, 'ingredients': 'setas, huevo, ternera', 'time': 30, 'response': '¡Claro! Aquí tienes una deliciosa receta de Revuelto de setas, huevo y ternera que podrás preparar en 30 minutos:\\n\\nIngredientes:\\n- 200 g de setas variadas (por ejemplo, champiñones, shiitake, setas ostra)\\n- 200 g de ternera en tiras\\n- 4 huevos\\n- 1 diente de ajo\\n- Aceite de oliva virgen extra\\n- Sal y pimienta al gusto\\n- Perejil fresco picado para decorar\\n\\nInstrucciones paso a paso:\\n\\n1. Lava y corta las setas en trozos no muy grandes.\\n2. En una sartén grande, calienta un poco de aceite de oliva a fuego medio y añade el diente de ajo picado finamente. Cocina por un minuto hasta que el ajo esté fragante.\\n3. Añade las tiras de ternera a la sartén y cocina hasta que estén doradas por todos lados, unos 5 minutos.\\n4. Agrega las setas a la sartén y saltea durante unos 5-7 minutos, hasta que estén tiernas y hayan soltado parte de su agua. Condimenta con sal y pimienta al gusto.\\n5. En un bol, bate los huevos y agrégalos a la sartén con las setas y la ternera. Remueve suavemente con una cuchara de madera para que los huevos se cocinen lentamente y se mezclen con los otros ingredientes.\\n6. Cocina el revuelto a fuego medio-bajo, removiendo constantemente, hasta que los huevos estén cocidos pero aún jugosos.\\n7. Retira la sartén del fuego y espolvorea perejil fresco picado por encima para darle un toque de frescura.\\n8. Sirve el Revuelto de setas, huevo y ternera caliente y ¡disfruta de esta deliciosa combinación de sabores!\\n\\n¡Espero que disfrutes de esta deliciosa receta! ¡Buen provecho!', 'created_at': datetime.datetime(2024, 7, 22, 9, 24, 12)}]\n"
     ]
    }
   ],
   "source": [
    "import pymysql\n",
    "\n",
    "# Configuración de la base de datos\n",
    "DB_CONFIG = {\n",
    "    'host': 'db-recipes.ct46wkioy0f3.us-east-1.rds.amazonaws.com',\n",
    "    'port': 3306,\n",
    "    'user': 'admin',\n",
    "    'password': '12345678',\n",
    "    'database': 'query_recipes',\n",
    "    'charset': 'utf8mb4',\n",
    "    'cursorclass': pymysql.cursors.DictCursor\n",
    "}\n",
    "\n",
    "def fetch_data():\n",
    "    connection = pymysql.connect(**DB_CONFIG)\n",
    "    try:\n",
    "        with connection.cursor() as cursor:\n",
    "            sql = \"SELECT * FROM query_responses\"\n",
    "            cursor.execute(sql)\n",
    "            results = cursor.fetchall()\n",
    "            print(results)\n",
    "    except pymysql.MySQLError as e:\n",
    "        print(f\"Error al ejecutar la consulta: {str(e)}\")\n",
    "    finally:\n",
    "        connection.close()\n",
    "\n",
    "if __name__ == \"__main__\":\n",
    "    fetch_data()\n"
   ]
  }
 ],
 "metadata": {
  "kernelspec": {
   "display_name": "Python 3",
   "language": "python",
   "name": "python3"
  },
  "language_info": {
   "codemirror_mode": {
    "name": "ipython",
    "version": 3
   },
   "file_extension": ".py",
   "mimetype": "text/x-python",
   "name": "python",
   "nbconvert_exporter": "python",
   "pygments_lexer": "ipython3",
   "version": "3.12.4"
  }
 },
 "nbformat": 4,
 "nbformat_minor": 2
}
